{
 "cells": [
  {
   "cell_type": "markdown",
   "id": "3a4eab00",
   "metadata": {},
   "source": [
    "# Some Useful Functions\n",
    "\n",
    "**2025 Introduction to Quantiative Methods in Finance**\n",
    "\n",
    "**The Erdös Institute**"
   ]
  },
  {
   "cell_type": "markdown",
   "id": "e9bbdbeb",
   "metadata": {},
   "source": [
    "The file `functions.py` contains numerous useful functions to assist in continuing your education and exploration of stock option dynamics in finance."
   ]
  },
  {
   "cell_type": "markdown",
   "id": "037032a6",
   "metadata": {},
   "source": [
    "## Overview of Black-Scholes and Heston Model Functions\n",
    "\n",
    "This module contains a collection of functions for pricing European options, computing Greeks, estimating implied volatility, and simulating price paths under the Black-Scholes and Heston stochastic volatility models.\n",
    "\n",
    "### Black-Scholes Functions\n",
    "\n",
    "- `bs_call(...)`: Returns the price of a European call option using the Black-Scholes formula.\n",
    "- `bs_put(...)`: Returns the price of a European put option using the Black-Scholes formula.\n",
    "- `bs_call_delta(...)`, `bs_put_delta(...)`: Return the Delta (sensitivity to spot price) of call and put options.\n",
    "- `bs_gamma(...)`: Returns the Gamma (second derivative with respect to spot price) for both call and put options.\n",
    "- `bs_vega(...)`: Returns the Vega (sensitivity to volatility) for both call and put options.\n",
    "- `bs_call_theta(...)`, `bs_put_theta(...)`: Return the Theta (sensitivity to time) for call and put options.\n",
    "- `bs_call_rho(...)`, `bs_put_rho(...)`: Return the Rho (sensitivity to interest rate) for call and put options.\n",
    "\n",
    "### Monte Carlo Simulations under Black-Scholes\n",
    "\n",
    "- `gbm_path_sim(...)`: Simulates asset paths using Geometric Brownian Motion.\n",
    "- `bs_MC_call(...)`, `bs_MC_put(...)`: Monte Carlo simulation of hedged profits from selling a call/put under Black-Scholes assumptions.\n",
    "- `bs_MC_call_fast(...)`: Faster version of `bs_MC_call` using analytic deltas for hedging.\n",
    "- `bs_MC_call_delta(...)`, `bs_MC_put_delta(...)`: Estimate Delta via Monte Carlo simulation.\n",
    "- `bs_MC_call_delta_array(...)`, `bs_MC_put_delta_array(...)`: Vectorized versions for Delta estimation over arrays of prices.\n",
    "\n",
    "### Implied Volatility Estimation\n",
    "\n",
    "- `implied_volatility_call(...)`, `implied_volatility_put(...)`: Estimate implied volatility from market option prices using root-finding.\n",
    "\n",
    "### Heston Model Functions\n",
    "\n",
    "- `heston_call(...)`, `heston_put(...)`: Semi-closed form solution for European call/put prices under the Heston model using numerical integration.\n",
    "\n",
    "### Monte-Carlo Simulation under Heston Model\n",
    "\n",
    "- `heston_path_sim(...)`: Simulates asset and variance paths under the Heston stochastic volatility model.\n",
    "- `heston_call_MC(...)`, `heston_put_MC(...)`: Monte Carlo pricing of European call/put options using Black-Scholes Deltas as control variates under the Heston model.\n",
    "\n",
    "\n",
    "\n",
    "\n",
    "### Uses\n",
    "\n",
    "The Monte-Carlo simulations of calls and puts are paricularly useful in under standing payoff distributions of a market-maker that implements $\\Delta$-based hedging strategies to protect profits obtained from selling stock options. \n",
    "\n",
    "The Black-Scholes modeling serves as a baseline for understanding payoff distributions when options are hedged until expiration.\n",
    "\n",
    "The Heston modeling serves as a baseline for understanding distributions of market values of options before expiration is reached.\n",
    "\n",
    "\n",
    "### Required Imports\n",
    "\n",
    "```python\n",
    "import numpy as np\n",
    "from scipy.stats import norm\n",
    "from scipy.optimize import brentq\n",
    "from scipy.integrate import quad\n"
   ]
  }
 ],
 "metadata": {
  "kernelspec": {
   "display_name": "Python 3 (ipykernel)",
   "language": "python",
   "name": "python3"
  },
  "language_info": {
   "codemirror_mode": {
    "name": "ipython",
    "version": 3
   },
   "file_extension": ".py",
   "mimetype": "text/x-python",
   "name": "python",
   "nbconvert_exporter": "python",
   "pygments_lexer": "ipython3",
   "version": "3.9.13"
  }
 },
 "nbformat": 4,
 "nbformat_minor": 5
}
